{
  "nbformat": 4,
  "nbformat_minor": 0,
  "metadata": {
    "colab": {
      "name": "Untitled5.ipynb",
      "provenance": [],
      "authorship_tag": "ABX9TyOn8vlJlDnDlmgMaX/m6pgg",
      "include_colab_link": true
    },
    "kernelspec": {
      "name": "python3",
      "display_name": "Python 3"
    }
  },
  "cells": [
    {
      "cell_type": "markdown",
      "metadata": {
        "id": "view-in-github",
        "colab_type": "text"
      },
      "source": [
        "<a href=\"https://colab.research.google.com/github/AbouCamara/COURS-IA/blob/main/Classlocat.ipynb\" target=\"_parent\"><img src=\"https://colab.research.google.com/assets/colab-badge.svg\" alt=\"Open In Colab\"/></a>"
      ]
    },
    {
      "cell_type": "code",
      "metadata": {
        "id": "InC-KT82EKI8"
      },
      "source": [
        "# This will import the python's module os\n",
        "import os\n",
        "from scipy import io\n",
        "import cv2\n",
        "import matplotlib.pyplot as plt\n",
        "import pandas as pd\n",
        "def extract_mat_contents(annot_directory, image_dir):\n",
        "\t        # Create MAT Parser\n",
        "\t        mat = scipy.io.loadmat(annot_directory)\n",
        "\t        # Get the height and width for our image\n",
        "\t        height, width = cv2.imread(image_dir).shape[:2]\n",
        "\t        # Get the bounding box co-ordinates\n",
        "\t        x1, y2, y1, x2 = tuple(map(tuple, mat['box_coord']))[0]\n",
        "\t        # We Split the image Directory passed in the method and choose the index\n",
        "\t        # Of the Folders name which is the same as it's class\n",
        "\t        class_name = image_dir.split('/')[2]\n",
        "\t        filename = '/'.join(image_dir.split('/')[-2:])\n",
        "\t        # Return the extracted attributes\n",
        "\t        return filename,  width, height, class_name, x1,y1,x2,y2"
      ],
      "execution_count": 13,
      "outputs": []
    },
    {
      "cell_type": "code",
      "metadata": {
        "id": "MAxMUDowOWK9"
      },
      "source": [
        "# Function to convert MAT files to CSV\n",
        "def mat_to_csv(annot_directory, image_directory, classes_folders):\n",
        "\n",
        "  # List containing all our attributes regarding each image\n",
        "  mat_list = []\n",
        "\n",
        "  # We loop our each class and its labels one by one to preprocess and augment \n",
        "  for class_folder in classes_folders:\n",
        "\n",
        "    # Set our images and annotations directory\n",
        "    image_dir = os.path.join(image_directory, class_folder)\n",
        "    annot_dir = os.path.join(annot_directory, class_folder) \n",
        "\n",
        "    # Get each file in the image and annotation directory\n",
        "    mat_files = sorted(os.listdir(annot_dir))\n",
        "    img_files = sorted(os.listdir(image_dir))\n",
        "\n",
        "    # Loop over each of the image and its label\n",
        "    for mat, image_file in zip(mat_files, img_files):\n",
        "      \n",
        "      # Full mat path\n",
        "      mat_path = os.path.join(annot_dir, mat)\n",
        "\n",
        "      # Full path Image\n",
        "      img_path = os.path.join(image_dir, image_file)\n",
        "\n",
        "      # Get Attributes for each image \n",
        "      value = extract_mat_contents(mat_path, img_path)\n",
        "\n",
        "      # Append the attributes to the mat_list\n",
        "      mat_list.append(value)\n",
        "\n",
        "  # Columns for Pandas DataFrame\n",
        "  column_name = ['filename', 'width', 'height', 'class', 'xmin', 'ymin', \n",
        "                 'xmax', 'ymax']\n",
        "\n",
        "  # Create the DataFrame from mat_list\n",
        "  mat_df = pd.DataFrame(mat_list, columns=column_name)\n",
        "\n",
        "  # Return the dataframe\n",
        "  return mat_df\n",
        "\n",
        "# The Classes we will use for our training\n",
        "classes_list = sorted(['butterfly',  'cougar_face', 'elephant'])\n",
        "\n",
        "\n",
        "# Set our images and annotations directory\n",
        "image_directory = 'CALTECH/CALTECH_Dataset'\n",
        "annot_directory = 'CALTECH/CALTECH_Annotations'\n",
        "\n",
        "# Run the function to convert all the MAT files to a Pandas DataFrame\n",
        "labels_df = mat_to_csv(annot_directory, image_directory, classes_list)\n",
        "\n",
        "# Saving the Pandas DataFrame as CSV File\n",
        "labels_df.to_csv(('labels.csv'), index=None)"
      ],
      "execution_count": 14,
      "outputs": []
    }
  ]
}