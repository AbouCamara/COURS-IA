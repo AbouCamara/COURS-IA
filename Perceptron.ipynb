{
  "nbformat": 4,
  "nbformat_minor": 0,
  "metadata": {
    "colab": {
      "name": "Untitled4.ipynb",
      "provenance": [],
      "authorship_tag": "ABX9TyMyv7MJ537svxl9jzayVYOr",
      "include_colab_link": true
    },
    "kernelspec": {
      "name": "python3",
      "display_name": "Python 3"
    }
  },
  "cells": [
    {
      "cell_type": "markdown",
      "metadata": {
        "id": "view-in-github",
        "colab_type": "text"
      },
      "source": [
        "<a href=\"https://colab.research.google.com/github/AbouCamara/COURS-IA/blob/main/Perceptron.ipynb\" target=\"_parent\"><img src=\"https://colab.research.google.com/assets/colab-badge.svg\" alt=\"Open In Colab\"/></a>"
      ]
    },
    {
      "cell_type": "code",
      "metadata": {
        "colab": {
          "base_uri": "https://localhost:8080/",
          "height": 279
        },
        "id": "hGrPOsn6KweG",
        "outputId": "31b95dcf-1508-4d7f-b6d5-7b4607a5d385"
      },
      "source": [
        "import numpy as np\n",
        "import matplotlib.pyplot as plt\n",
        "\n",
        "x = np.arange(-2, 2, 0.02)\n",
        "\n",
        "sigmoid = 1./(1+np.exp(-x))\n",
        "tanh = (np.exp(x)-np.exp(-x))/(np.exp(x)+np.exp(-x))\n",
        "relu = np.max([np.zeros(len(x)), x], axis=0)\n",
        "\n",
        "plt.plot(x, sigmoid)\n",
        "plt.plot(x, tanh)\n",
        "plt.plot(x, relu)\n",
        "\n",
        "plt.xlabel('x')\n",
        "plt.ylabel('activation')\n",
        "plt.legend(['sigmoid', 'tanh', 'relu'])\n",
        "\n",
        "plt.show()"
      ],
      "execution_count": 1,
      "outputs": [
        {
          "output_type": "display_data",
          "data": {
            "image/png": "[encoded data removed]",
            "text/plain": [
              "<Figure size 432x288 with 1 Axes>"
            ]
          },
          "metadata": {
            "tags": [],
            "needs_background": "light"
          }
        }
      ]
    },
    {
      "cell_type": "code",
      "metadata": {
        "id": "gJVQM1n8LZpO"
      },
      "source": [
        "import tensorflow as tf\n",
        "\n",
        "# Define a function\n",
        "def perceptron(input_dim):\n",
        "    # We create a so called Sequential model\n",
        "    model = tf.keras.models.Sequential()\n",
        "    \n",
        "    # Add the first \"Dense\" layer of 3 units, and give the input dimension (here 5)\n",
        "    model.add(tf.keras.layers.Dense(1, input_dim=input_dim, activation='sigmoid'))\n",
        "\n",
        "    # return the created model\n",
        "    return model"
      ],
      "execution_count": 2,
      "outputs": []
    },
    {
      "cell_type": "code",
      "metadata": {
        "colab": {
          "base_uri": "https://localhost:8080/"
        },
        "id": "neQ8m9yBLlHe",
        "outputId": "e88255c3-8216-495d-cc31-218277f0e8ac"
      },
      "source": [
        "my_perceptron = perceptron(input_dim=5)\n",
        "\n",
        "my_perceptron.summary()\n"
      ],
      "execution_count": 3,
      "outputs": [
        {
          "output_type": "stream",
          "text": [
            "Model: \"sequential\"\n",
            "_________________________________________________________________\n",
            "Layer (type)                 Output Shape              Param #   \n",
            "=================================================================\n",
            "dense (Dense)                (None, 1)                 6         \n",
            "=================================================================\n",
            "Total params: 6\n",
            "Trainable params: 6\n",
            "Non-trainable params: 0\n",
            "_________________________________________________________________\n"
          ],
          "name": "stdout"
        }
      ]
    }
  ]
}